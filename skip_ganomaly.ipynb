{
  "nbformat": 4,
  "nbformat_minor": 0,
  "metadata": {
    "colab": {
      "name": "skip-ganomaly.ipynb",
      "provenance": [],
      "collapsed_sections": [],
      "authorship_tag": "ABX9TyO43qKHkP42M1gU+FgcVjGR",
      "include_colab_link": true
    },
    "kernelspec": {
      "name": "python3",
      "display_name": "Python 3"
    },
    "accelerator": "GPU"
  },
  "cells": [
    {
      "cell_type": "markdown",
      "metadata": {
        "id": "view-in-github",
        "colab_type": "text"
      },
      "source": [
        "<a href=\"https://colab.research.google.com/github/yixiyixi5/f-AnoGAN/blob/master/skip_ganomaly.ipynb\" target=\"_parent\"><img src=\"https://colab.research.google.com/assets/colab-badge.svg\" alt=\"Open In Colab\"/></a>"
      ]
    },
    {
      "cell_type": "code",
      "metadata": {
        "id": "KtfLm0G-OV7a",
        "colab_type": "code",
        "colab": {}
      },
      "source": [
        "!apt-get install -y -qq software-properties-common python-software-properties module-init-tools\n",
        "!add-apt-repository -y ppa:alessandro-strada/ppa 2>&1 > /dev/null\n",
        "!apt-get update -qq 2>&1 > /dev/null\n",
        "!apt-get -y install -qq google-drive-ocamlfuse fuse\n",
        "from google.colab import auth\n",
        "auth.authenticate_user()\n",
        "from oauth2client.client import GoogleCredentials\n",
        "creds = GoogleCredentials.get_application_default()\n",
        "import getpass\n",
        "!google-drive-ocamlfuse -headless -id={creds.client_id} -secret={creds.client_secret} < /dev/null 2>&1 | grep URL\n",
        "vcode = getpass.getpass()\n",
        "!echo {vcode} | google-drive-ocamlfuse -headless -id={creds.client_id} -secret={creds.client_secret}\n"
      ],
      "execution_count": 0,
      "outputs": []
    },
    {
      "cell_type": "code",
      "metadata": {
        "id": "iKZwhVOYPwtR",
        "colab_type": "code",
        "colab": {}
      },
      "source": [
        "\n",
        "# 指定Google Drive云端硬盘的根目录，名为drive\n",
        "!mkdir -p drive\n",
        "!google-drive-ocamlfuse drive -o nonempty\n"
      ],
      "execution_count": 0,
      "outputs": []
    },
    {
      "cell_type": "code",
      "metadata": {
        "id": "njSdGL7xuS5_",
        "colab_type": "code",
        "colab": {}
      },
      "source": [
        "#指定工作路径\n",
        "import os\n",
        "os.chdir(\"drive/Colab/\")"
      ],
      "execution_count": 0,
      "outputs": []
    },
    {
      "cell_type": "code",
      "metadata": {
        "id": "cJ08vDxy8_pQ",
        "colab_type": "code",
        "colab": {
          "base_uri": "https://localhost:8080/",
          "height": 138
        },
        "outputId": "d10b18cf-36d3-4a40-d526-52f1c9465115"
      },
      "source": [
        "#可忽略前几格，直接从此格开始，路径就是/content/skip-ganomaly\n",
        "#从GitHub git文件夹\n",
        "! git clone https://github.com/samet-akcay/skip-ganomaly.git"
      ],
      "execution_count": 1,
      "outputs": [
        {
          "output_type": "stream",
          "text": [
            "Cloning into 'skip-ganomaly'...\n",
            "remote: Enumerating objects: 55, done.\u001b[K\n",
            "remote: Counting objects:   1% (1/55)\u001b[K\rremote: Counting objects:   3% (2/55)\u001b[K\rremote: Counting objects:   5% (3/55)\u001b[K\rremote: Counting objects:   7% (4/55)\u001b[K\rremote: Counting objects:   9% (5/55)\u001b[K\rremote: Counting objects:  10% (6/55)\u001b[K\rremote: Counting objects:  12% (7/55)\u001b[K\rremote: Counting objects:  14% (8/55)\u001b[K\rremote: Counting objects:  16% (9/55)\u001b[K\rremote: Counting objects:  18% (10/55)\u001b[K\rremote: Counting objects:  20% (11/55)\u001b[K\rremote: Counting objects:  21% (12/55)\u001b[K\rremote: Counting objects:  23% (13/55)\u001b[K\rremote: Counting objects:  25% (14/55)\u001b[K\rremote: Counting objects:  27% (15/55)\u001b[K\rremote: Counting objects:  29% (16/55)\u001b[K\rremote: Counting objects:  30% (17/55)\u001b[K\rremote: Counting objects:  32% (18/55)\u001b[K\rremote: Counting objects:  34% (19/55)\u001b[K\rremote: Counting objects:  36% (20/55)\u001b[K\rremote: Counting objects:  38% (21/55)\u001b[K\rremote: Counting objects:  40% (22/55)\u001b[K\rremote: Counting objects:  41% (23/55)\u001b[K\rremote: Counting objects:  43% (24/55)\u001b[K\rremote: Counting objects:  45% (25/55)\u001b[K\rremote: Counting objects:  47% (26/55)\u001b[K\rremote: Counting objects:  49% (27/55)\u001b[K\rremote: Counting objects:  50% (28/55)\u001b[K\rremote: Counting objects:  52% (29/55)\u001b[K\rremote: Counting objects:  54% (30/55)\u001b[K\rremote: Counting objects:  56% (31/55)\u001b[K\rremote: Counting objects:  58% (32/55)\u001b[K\rremote: Counting objects:  60% (33/55)\u001b[K\rremote: Counting objects:  61% (34/55)\u001b[K\rremote: Counting objects:  63% (35/55)\u001b[K\rremote: Counting objects:  65% (36/55)\u001b[K\rremote: Counting objects:  67% (37/55)\u001b[K\rremote: Counting objects:  69% (38/55)\u001b[K\rremote: Counting objects:  70% (39/55)\u001b[K\rremote: Counting objects:  72% (40/55)\u001b[K\rremote: Counting objects:  74% (41/55)\u001b[K\rremote: Counting objects:  76% (42/55)\u001b[K\rremote: Counting objects:  78% (43/55)\u001b[K\rremote: Counting objects:  80% (44/55)\u001b[K\rremote: Counting objects:  81% (45/55)\u001b[K\rremote: Counting objects:  83% (46/55)\u001b[K\rremote: Counting objects:  85% (47/55)\u001b[K\rremote: Counting objects:  87% (48/55)\u001b[K\rremote: Counting objects:  89% (49/55)\u001b[K\rremote: Counting objects:  90% (50/55)\u001b[K\rremote: Counting objects:  92% (51/55)\u001b[K\rremote: Counting objects:  94% (52/55)\u001b[K\rremote: Counting objects:  96% (53/55)\u001b[K\rremote: Counting objects:  98% (54/55)\u001b[K\rremote: Counting objects: 100% (55/55)\u001b[K\rremote: Counting objects: 100% (55/55), done.\u001b[K\n",
            "remote: Compressing objects:   2% (1/40)\u001b[K\rremote: Compressing objects:   5% (2/40)\u001b[K\rremote: Compressing objects:   7% (3/40)\u001b[K\rremote: Compressing objects:  10% (4/40)\u001b[K\rremote: Compressing objects:  12% (5/40)\u001b[K\rremote: Compressing objects:  15% (6/40)\u001b[K\rremote: Compressing objects:  17% (7/40)\u001b[K\rremote: Compressing objects:  20% (8/40)\u001b[K\rremote: Compressing objects:  22% (9/40)\u001b[K\rremote: Compressing objects:  25% (10/40)\u001b[K\rremote: Compressing objects:  27% (11/40)\u001b[K\rremote: Compressing objects:  30% (12/40)\u001b[K\rremote: Compressing objects:  32% (13/40)\u001b[K\rremote: Compressing objects:  35% (14/40)\u001b[K\rremote: Compressing objects:  37% (15/40)\u001b[K\rremote: Compressing objects:  40% (16/40)\u001b[K\rremote: Compressing objects:  42% (17/40)\u001b[K\rremote: Compressing objects:  45% (18/40)\u001b[K\rremote: Compressing objects:  47% (19/40)\u001b[K\rremote: Compressing objects:  50% (20/40)\u001b[K\rremote: Compressing objects:  52% (21/40)\u001b[K\rremote: Compressing objects:  55% (22/40)\u001b[K\rremote: Compressing objects:  57% (23/40)\u001b[K\rremote: Compressing objects:  60% (24/40)\u001b[K\rremote: Compressing objects:  62% (25/40)\u001b[K\rremote: Compressing objects:  65% (26/40)\u001b[K\rremote: Compressing objects:  67% (27/40)\u001b[K\rremote: Compressing objects:  70% (28/40)\u001b[K\rremote: Compressing objects:  72% (29/40)\u001b[K\rremote: Compressing objects:  75% (30/40)\u001b[K\rremote: Compressing objects:  77% (31/40)\u001b[K\rremote: Compressing objects:  80% (32/40)\u001b[K\rremote: Compressing objects:  82% (33/40)\u001b[K\rremote: Compressing objects:  85% (34/40)\u001b[K\rremote: Compressing objects:  87% (35/40)\u001b[K\rremote: Compressing objects:  90% (36/40)\u001b[K\rremote: Compressing objects:  92% (37/40)\u001b[K\rremote: Compressing objects:  95% (38/40)\u001b[K\rremote: Compressing objects:  97% (39/40)\u001b[K\rremote: Compressing objects: 100% (40/40)\u001b[K\rremote: Compressing objects: 100% (40/40), done.\u001b[K\n",
            "Receiving objects:   0% (1/613)   \rReceiving objects:   1% (7/613)   \rReceiving objects:   2% (13/613)   \rReceiving objects:   3% (19/613)   \rReceiving objects:   4% (25/613)   \rReceiving objects:   5% (31/613)   \rReceiving objects:   6% (37/613)   \rReceiving objects:   7% (43/613)   \rReceiving objects:   8% (50/613)   \rReceiving objects:   9% (56/613)   \rReceiving objects:  10% (62/613)   \rReceiving objects:  11% (68/613)   \rReceiving objects:  12% (74/613)   \rReceiving objects:  13% (80/613)   \rReceiving objects:  14% (86/613)   \rReceiving objects:  15% (92/613)   \rReceiving objects:  16% (99/613)   \rReceiving objects:  17% (105/613)   \rReceiving objects:  18% (111/613)   \rReceiving objects:  19% (117/613)   \rReceiving objects:  20% (123/613)   \rReceiving objects:  21% (129/613)   \rReceiving objects:  22% (135/613)   \rReceiving objects:  23% (141/613)   \rReceiving objects:  24% (148/613)   \rReceiving objects:  25% (154/613)   \rReceiving objects:  26% (160/613)   \rReceiving objects:  27% (166/613)   \rReceiving objects:  28% (172/613)   \rReceiving objects:  29% (178/613)   \rReceiving objects:  30% (184/613)   \rReceiving objects:  31% (191/613)   \rReceiving objects:  32% (197/613)   \rReceiving objects:  33% (203/613)   \rReceiving objects:  34% (209/613)   \rReceiving objects:  35% (215/613)   \rReceiving objects:  36% (221/613)   \rReceiving objects:  37% (227/613)   \rReceiving objects:  38% (233/613)   \rReceiving objects:  39% (240/613)   \rReceiving objects:  40% (246/613)   \rReceiving objects:  41% (252/613)   \rReceiving objects:  42% (258/613)   \rReceiving objects:  43% (264/613)   \rReceiving objects:  44% (270/613)   \rReceiving objects:  45% (276/613)   \rReceiving objects:  46% (282/613)   \rReceiving objects:  47% (289/613)   \rReceiving objects:  48% (295/613)   \rReceiving objects:  49% (301/613)   \rReceiving objects:  50% (307/613)   \rReceiving objects:  51% (313/613)   \rReceiving objects:  52% (319/613)   \rReceiving objects:  53% (325/613)   \rReceiving objects:  54% (332/613)   \rReceiving objects:  55% (338/613)   \rReceiving objects:  56% (344/613)   \rReceiving objects:  57% (350/613)   \rReceiving objects:  58% (356/613)   \rReceiving objects:  59% (362/613)   \rReceiving objects:  60% (368/613)   \rReceiving objects:  61% (374/613)   \rReceiving objects:  62% (381/613)   \rReceiving objects:  63% (387/613)   \rReceiving objects:  64% (393/613)   \rReceiving objects:  65% (399/613)   \rReceiving objects:  66% (405/613)   \rReceiving objects:  67% (411/613)   \rReceiving objects:  68% (417/613)   \rReceiving objects:  69% (423/613)   \rReceiving objects:  70% (430/613)   \rReceiving objects:  71% (436/613)   \rReceiving objects:  72% (442/613)   \rReceiving objects:  73% (448/613)   \rReceiving objects:  74% (454/613)   \rReceiving objects:  75% (460/613)   \rReceiving objects:  76% (466/613)   \rReceiving objects:  77% (473/613)   \rReceiving objects:  78% (479/613)   \rReceiving objects:  79% (485/613)   \rremote: Total 613 (delta 28), reused 37 (delta 15), pack-reused 558\u001b[K\n",
            "Receiving objects:  80% (491/613)   \rReceiving objects:  81% (497/613)   \rReceiving objects:  82% (503/613)   \rReceiving objects:  83% (509/613)   \rReceiving objects:  84% (515/613)   \rReceiving objects:  85% (522/613)   \rReceiving objects:  86% (528/613)   \rReceiving objects:  87% (534/613)   \rReceiving objects:  88% (540/613)   \rReceiving objects:  89% (546/613)   \rReceiving objects:  90% (552/613)   \rReceiving objects:  91% (558/613)   \rReceiving objects:  92% (564/613)   \rReceiving objects:  93% (571/613)   \rReceiving objects:  94% (577/613)   \rReceiving objects:  95% (583/613)   \rReceiving objects:  96% (589/613)   \rReceiving objects:  97% (595/613)   \rReceiving objects:  98% (601/613)   \rReceiving objects:  99% (607/613)   \rReceiving objects: 100% (613/613)   \rReceiving objects: 100% (613/613), 174.45 KiB | 960.00 KiB/s, done.\n",
            "Resolving deltas:   0% (0/397)   \rResolving deltas:   1% (4/397)   \rResolving deltas:   2% (9/397)   \rResolving deltas:   3% (12/397)   \rResolving deltas:   5% (20/397)   \rResolving deltas:   6% (27/397)   \rResolving deltas:   8% (32/397)   \rResolving deltas:   9% (37/397)   \rResolving deltas:  10% (41/397)   \rResolving deltas:  16% (64/397)   \rResolving deltas:  28% (115/397)   \rResolving deltas:  31% (125/397)   \rResolving deltas:  40% (159/397)   \rResolving deltas:  44% (177/397)   \rResolving deltas:  47% (188/397)   \rResolving deltas:  60% (239/397)   \rResolving deltas:  61% (244/397)   \rResolving deltas:  63% (253/397)   \rResolving deltas:  64% (255/397)   \rResolving deltas:  65% (259/397)   \rResolving deltas:  69% (274/397)   \rResolving deltas:  71% (282/397)   \rResolving deltas:  72% (286/397)   \rResolving deltas:  74% (296/397)   \rResolving deltas:  75% (298/397)   \rResolving deltas:  77% (308/397)   \rResolving deltas:  78% (312/397)   \rResolving deltas:  79% (314/397)   \rResolving deltas:  80% (320/397)   \rResolving deltas:  82% (326/397)   \rResolving deltas:  86% (344/397)   \rResolving deltas:  87% (346/397)   \rResolving deltas:  91% (363/397)   \rResolving deltas:  92% (366/397)   \rResolving deltas:  96% (384/397)   \rResolving deltas:  97% (388/397)   \rResolving deltas:  98% (390/397)   \rResolving deltas:  99% (395/397)   \rResolving deltas: 100% (397/397)   \rResolving deltas: 100% (397/397), done.\n"
          ],
          "name": "stdout"
        }
      ]
    },
    {
      "cell_type": "code",
      "metadata": {
        "id": "l8VUHZUt2Z3o",
        "colab_type": "code",
        "colab": {
          "base_uri": "https://localhost:8080/",
          "height": 35
        },
        "outputId": "15e70d0e-e304-4b59-9cdd-7ae712872a52"
      },
      "source": [
        "!ls "
      ],
      "execution_count": 2,
      "outputs": [
        {
          "output_type": "stream",
          "text": [
            "sample_data  skip-ganomaly\n"
          ],
          "name": "stdout"
        }
      ]
    },
    {
      "cell_type": "code",
      "metadata": {
        "id": "qL78JCPhFHDc",
        "colab_type": "code",
        "colab": {
          "base_uri": "https://localhost:8080/",
          "height": 35
        },
        "outputId": "d652e478-18f3-489f-d2d8-f0afcf8c5b86"
      },
      "source": [
        "!sh skip-ganomaly/experiments/run_cifar.sh"
      ],
      "execution_count": 3,
      "outputs": [
        {
          "output_type": "stream",
          "text": [
            "skip-ganomaly/experiments/run_cifar.sh: 5: skip-ganomaly/experiments/run_cifar.sh: Syntax error: \"(\" unexpected\n"
          ],
          "name": "stdout"
        }
      ]
    },
    {
      "cell_type": "code",
      "metadata": {
        "id": "EaVxEmUgD5AN",
        "colab_type": "code",
        "colab": {
          "base_uri": "https://localhost:8080/",
          "height": 1000
        },
        "outputId": "61da3f4b-72d2-4772-9026-7e5e2c7c8528"
      },
      "source": [
        "!python skip-ganomaly/train.py "
      ],
      "execution_count": 4,
      "outputs": [
        {
          "output_type": "stream",
          "text": [
            "Downloading https://www.cs.toronto.edu/~kriz/cifar-10-python.tar.gz to ./data/cifar-10-python.tar.gz\n",
            "0it [00:00, ?it/s]Failed download. Trying https -> http instead. Downloading http://www.cs.toronto.edu/~kriz/cifar-10-python.tar.gz to ./data/cifar-10-python.tar.gz\n",
            "\n",
            "0it [00:00, ?it/s]\u001b[A\n",
            "  0% 0/170498071 [00:00<?, ?it/s]\u001b[A\n",
            "  0% 49152/170498071 [00:00<06:37, 428915.91it/s]\u001b[A\n",
            "  0% 221184/170498071 [00:00<05:11, 546020.24it/s]\u001b[A\n",
            "  1% 917504/170498071 [00:00<03:45, 750954.34it/s]\u001b[A\n",
            "  2% 3686400/170498071 [00:00<02:37, 1058694.60it/s]\u001b[A\n",
            "  6% 9461760/170498071 [00:00<01:47, 1498591.33it/s]\u001b[A\n",
            "  9% 15196160/170498071 [00:00<01:13, 2113276.09it/s]\u001b[A\n",
            " 12% 20996096/170498071 [00:00<00:50, 2964740.92it/s]\u001b[A\n",
            " 16% 26927104/170498071 [00:01<00:34, 4130154.47it/s]\u001b[A\n",
            " 19% 32727040/170498071 [00:01<00:24, 5696511.48it/s]\u001b[A\n",
            " 23% 38592512/170498071 [00:01<00:17, 7756105.18it/s]\u001b[A\n",
            " 26% 44384256/170498071 [00:01<00:12, 10382590.64it/s]\u001b[A\n",
            " 29% 50249728/170498071 [00:01<00:08, 13612763.16it/s]\u001b[A\n",
            " 33% 56180736/170498071 [00:01<00:06, 17415314.47it/s]\u001b[A\n",
            " 36% 61980672/170498071 [00:01<00:05, 21614697.93it/s]\u001b[A\n",
            " 40% 67846144/170498071 [00:01<00:03, 26035797.67it/s]\u001b[A\n",
            " 43% 73711616/170498071 [00:01<00:03, 30380730.72it/s]\u001b[A\n",
            " 47% 79446016/170498071 [00:02<00:02, 34312622.28it/s]\u001b[A\n",
            " 50% 85049344/170498071 [00:02<00:02, 38798248.96it/s]\u001b[A\n",
            " 53% 90169344/170498071 [00:02<00:01, 40887012.91it/s]\u001b[A\n",
            " 56% 95158272/170498071 [00:02<00:01, 43105717.13it/s]\u001b[A\n",
            " 59% 100130816/170498071 [00:02<00:01, 44263487.46it/s]\u001b[A\n",
            " 62% 105160704/170498071 [00:02<00:01, 45906107.35it/s]\u001b[A\n",
            " 65% 110100480/170498071 [00:02<00:01, 46317161.87it/s]\u001b[A\n",
            " 67% 114974720/170498071 [00:02<00:01, 46972092.96it/s]\u001b[A\n",
            " 70% 119906304/170498071 [00:02<00:01, 46913750.31it/s]\u001b[A\n",
            " 74% 125468672/170498071 [00:03<00:00, 49225902.01it/s]\u001b[A\n",
            " 77% 130506752/170498071 [00:03<00:00, 47874215.84it/s]\u001b[A\n",
            " 80% 135634944/170498071 [00:03<00:00, 48710956.89it/s]\u001b[A\n",
            " 82% 140574720/170498071 [00:03<00:00, 48585610.96it/s]\u001b[A\n",
            " 85% 145481728/170498071 [00:03<00:00, 48561459.23it/s]\u001b[A\n",
            " 88% 150372352/170498071 [00:03<00:00, 48012238.25it/s]\u001b[A\n",
            " 91% 155910144/170498071 [00:03<00:00, 49988297.74it/s]\u001b[A\n",
            " 94% 160948224/170498071 [00:03<00:00, 49194963.26it/s]\u001b[A\n",
            "170500096it [00:03, 43144414.13it/s]                   \n",
            "0it [00:04, ?it/s]\n",
            "Extracting ./data/cifar-10-python.tar.gz to ./data\n",
            "Files already downloaded and verified\n",
            "/usr/local/lib/python3.6/dist-packages/statsmodels/tools/_testing.py:19: FutureWarning: pandas.util.testing is deprecated. Use the functions in the public API at pandas.testing instead.\n",
            "  import pandas.util.testing as tm\n",
            ">> Training skip-ganomaly on cifar10 to detect automobile\n",
            ">> Training model skip-ganomaly. Epoch 1/15\n",
            "   Testing skip-ganomaly\n",
            "   Avg Run Time (ms/batch): 17.246 AUC: 0.863 max AUC: 0.863\n",
            ">> Training model skip-ganomaly. Epoch 2/15\n",
            "   Testing skip-ganomaly\n",
            "   Avg Run Time (ms/batch): 16.810 AUC: 0.868 max AUC: 0.868\n",
            ">> Training model skip-ganomaly. Epoch 3/15\n",
            "   Testing skip-ganomaly\n",
            "   Avg Run Time (ms/batch): 17.483 AUC: 0.797 max AUC: 0.868\n",
            ">> Training model skip-ganomaly. Epoch 4/15\n",
            "   Testing skip-ganomaly\n",
            "   Avg Run Time (ms/batch): 17.132 AUC: 0.815 max AUC: 0.868\n",
            ">> Training model skip-ganomaly. Epoch 5/15\n",
            "   Testing skip-ganomaly\n",
            "   Avg Run Time (ms/batch): 16.951 AUC: 0.846 max AUC: 0.868\n",
            ">> Training model skip-ganomaly. Epoch 6/15\n",
            "   Testing skip-ganomaly\n",
            "   Avg Run Time (ms/batch): 17.545 AUC: 0.863 max AUC: 0.868\n",
            ">> Training model skip-ganomaly. Epoch 7/15\n",
            "   Testing skip-ganomaly\n",
            "   Avg Run Time (ms/batch): 17.141 AUC: 0.838 max AUC: 0.868\n",
            ">> Training model skip-ganomaly. Epoch 8/15\n",
            "   Testing skip-ganomaly\n",
            "   Avg Run Time (ms/batch): 17.200 AUC: 0.824 max AUC: 0.868\n",
            ">> Training model skip-ganomaly. Epoch 9/15\n",
            "   Testing skip-ganomaly\n",
            "   Avg Run Time (ms/batch): 17.173 AUC: 0.834 max AUC: 0.868\n",
            ">> Training model skip-ganomaly. Epoch 10/15\n",
            "   Testing skip-ganomaly\n",
            "   Avg Run Time (ms/batch): 17.481 AUC: 0.818 max AUC: 0.868\n",
            ">> Training model skip-ganomaly. Epoch 11/15\n",
            "   Testing skip-ganomaly\n",
            "   Avg Run Time (ms/batch): 17.188 AUC: 0.786 max AUC: 0.868\n",
            ">> Training model skip-ganomaly. Epoch 12/15\n",
            "   Testing skip-ganomaly\n",
            "   Avg Run Time (ms/batch): 17.417 AUC: 0.758 max AUC: 0.868\n",
            ">> Training model skip-ganomaly. Epoch 13/15\n",
            "   Testing skip-ganomaly\n",
            "   Avg Run Time (ms/batch): 17.475 AUC: 0.807 max AUC: 0.868\n",
            ">> Training model skip-ganomaly. Epoch 14/15\n",
            "   Testing skip-ganomaly\n",
            "   Avg Run Time (ms/batch): 16.988 AUC: 0.796 max AUC: 0.868\n",
            ">> Training model skip-ganomaly. Epoch 15/15\n",
            "   Testing skip-ganomaly\n",
            "   Avg Run Time (ms/batch): 17.324 AUC: 0.722 max AUC: 0.868\n",
            ">> Training model skip-ganomaly.[Done]\n"
          ],
          "name": "stdout"
        }
      ]
    }
  ]
}